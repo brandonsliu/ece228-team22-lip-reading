{
 "cells": [
  {
   "cell_type": "code",
   "execution_count": 2,
   "metadata": {},
   "outputs": [],
   "source": [
    "import os\n",
    "import cv2\n",
    "import torch\n",
    "import numpy as np\n",
    "from torch.utils.data import Dataset, DataLoader\n",
    "import torch.nn as nn\n",
    "import torch.nn.functional as F\n",
    "from torchvision import transforms\n",
    "from PIL import Image\n",
    "import matplotlib.pyplot as plt\n",
    "import time\n",
    "from tqdm.notebook import tqdm"
   ]
  },
  {
   "cell_type": "code",
   "execution_count": 3,
   "metadata": {},
   "outputs": [],
   "source": [
    "%reload_ext autoreload\n",
    "%autoreload 2\n",
    "\n",
    "from video_dataset import VideoDataset"
   ]
  },
  {
   "cell_type": "code",
   "execution_count": 4,
   "metadata": {},
   "outputs": [
    {
     "name": "stdout",
     "output_type": "stream",
     "text": [
      "Feature batch shape: torch.Size([8, 1, 29, 64, 64])\n",
      "Labels batch shape: torch.Size([8])\n",
      "Labels: tensor([176,  43, 186, 251, 354, 335, 203, 415])\n"
     ]
    },
    {
     "data": {
      "image/png": "[encoded data removed]",
      "text/plain": [
       "<Figure size 640x480 with 1 Axes>"
      ]
     },
     "metadata": {},
     "output_type": "display_data"
    },
    {
     "name": "stdout",
     "output_type": "stream",
     "text": [
      "Label: 176\n"
     ]
    }
   ],
   "source": [
    "root_dir = 'processed_selected_mp4_files'\n",
    "dataset = VideoDataset(root_dir=root_dir, mode='train')\n",
    "test_dataset = VideoDataset(root_dir=root_dir, mode='test')\n",
    "train_dataloader = DataLoader(dataset, batch_size=8, shuffle=True, num_workers=4)\n",
    "train_features, train_labels = next(iter(train_dataloader))\n",
    "print(f\"Feature batch shape: {train_features.size()}\")\n",
    "print(f\"Labels batch shape: {train_labels.size()}\")\n",
    "print(f\"Labels: {train_labels}\")\n",
    "img = train_features[0].squeeze()\n",
    "label = train_labels[0]\n",
    "plt.imshow(img[10], cmap=\"gray\")\n",
    "plt.show()\n",
    "print(f\"Label: {label}\")"
   ]
  },
  {
   "cell_type": "code",
   "execution_count": 5,
   "metadata": {},
   "outputs": [
    {
     "name": "stdout",
     "output_type": "stream",
     "text": [
      "25000\n",
      "50000\n"
     ]
    }
   ],
   "source": [
    "print(len(test_dataset))\n",
    "print(len(dataset))"
   ]
  },
  {
   "cell_type": "code",
   "execution_count": 6,
   "metadata": {},
   "outputs": [],
   "source": [
    "class averageMeter(object):\n",
    "    \"\"\"Computes and stores the average and current value\"\"\"\n",
    "\n",
    "    def __init__(self):\n",
    "        self.reset()\n",
    "\n",
    "    def reset(self):\n",
    "        self.val = 0\n",
    "        self.avg = 0\n",
    "        self.sum = 0\n",
    "        self.count = 0\n",
    "\n",
    "    def update(self, val, n=1):\n",
    "        self.val = val\n",
    "        self.sum += val * n\n",
    "        self.count += n\n",
    "        self.avg = self.sum / self.count"
   ]
  },
  {
   "cell_type": "code",
   "execution_count": 7,
   "metadata": {},
   "outputs": [],
   "source": [
    "def compute_accuracy(output, target):\n",
    "    correct = 0.0\n",
    "    total = len(target)\n",
    "    output = torch.max(output, dim=1).indices\n",
    "    correct = sum(output == target) \n",
    "    acc = correct / total\n",
    "    return acc"
   ]
  },
  {
   "cell_type": "code",
   "execution_count": 8,
   "metadata": {},
   "outputs": [],
   "source": [
    "def train(data_loader, model, optimizer, epoch, criterion, device='cpu', batches_per_epoch=100):\n",
    "    # set the model to training mode\n",
    "    model.train()\n",
    "\n",
    "    losses = averageMeter()\n",
    "    accuracy = averageMeter()\n",
    "    progress_bar = tqdm(enumerate(data_loader), desc=f\"Epoch {epoch} Running\", unit=\"batch\", total=batches_per_epoch)    \n",
    "    for (step, value) in (progress_bar):\n",
    "      if step >= batches_per_epoch:\n",
    "        break\n",
    "\n",
    "      data = value[0].to(device)\n",
    "      target = value[1].to(device)\n",
    "\n",
    "      optimizer.zero_grad()\n",
    "\n",
    "      # forward the data to the model and get the output\n",
    "      output = model(data)\n",
    "\n",
    "      # compute accuracy\n",
    "      acc = compute_accuracy(output, target)\n",
    "      accuracy.update(acc.item(), data.size(0))\n",
    "\n",
    "      # compute loss with the output and the target\n",
    "      loss = criterion(output, target)\n",
    "\n",
    "      # backward (PyTorch computes backpropagation for you)\n",
    "      loss.backward()\n",
    "\n",
    "      optimizer.step()\n",
    "\n",
    "      # accumulate losses\n",
    "      losses.update(loss.item(), data.size(0))\n",
    "      progress_bar.set_postfix({\n",
    "            'Batch': step + 1,\n",
    "            'Loss': losses.avg,\n",
    "            'Accuracy': accuracy.avg\n",
    "        })\n",
    "\n",
    "    print(f\"[Epoch: {epoch}]\\t lr: {optimizer.param_groups[0]['lr']:.4g}\\t \\\n",
    "      loss_train: {losses.avg:.4f}\\tacc_train: {accuracy.avg:.4f}\")\n",
    "    return losses.avg, accuracy.avg"
   ]
  },
  {
   "cell_type": "code",
   "execution_count": 9,
   "metadata": {},
   "outputs": [],
   "source": [
    "@torch.no_grad()\n",
    "def test(data_loader, model, criterion, device='cpu', batches_per_epoch=100):\n",
    "    # set the model to evaluation mode\n",
    "    model.eval()\n",
    "\n",
    "    losses = averageMeter()\n",
    "    accuracy = averageMeter()\n",
    "    for (step, value) in enumerate(data_loader):\n",
    "        if step >= batches_per_epoch:\n",
    "            break\n",
    "\n",
    "        data = value[0].to(device)\n",
    "        target = value[1].to(device)\n",
    "\n",
    "        # forward the data to the model and get the output\n",
    "        output = model(data)\n",
    "\n",
    "        # compute accuracy\n",
    "        acc = compute_accuracy(output, target)\n",
    "        accuracy.update(acc.item(), data.size(0))\n",
    "\n",
    "        # compute loss with the output and the target\n",
    "        loss = criterion(output, target)\n",
    "\n",
    "        # accumulate losses\n",
    "        losses.update(loss.item(), data.size(0))\n",
    "\n",
    "    return losses.avg, accuracy.avg"
   ]
  },
  {
   "cell_type": "code",
   "execution_count": 24,
   "metadata": {},
   "outputs": [],
   "source": [
    "class CNN(nn.Module):\n",
    "    def __init__(self, num_classes=500):\n",
    "        super(CNN, self).__init__()\n",
    "        ########### TODO ###########\n",
    "        # First 3D Convolutional Layer\n",
    "        self.conv1 = nn.Conv3d(1, 64, kernel_size=(3, 3, 3), padding=1)\n",
    "        self.pool1 = nn.MaxPool3d(kernel_size=(1, 2, 2), stride=(1, 2, 2))\n",
    "\n",
    "        self.conv2 = nn.Conv3d(64, 128, kernel_size=(3, 3, 3), padding=1)\n",
    "        self.pool2 = nn.MaxPool3d(kernel_size=(2, 2, 2), stride=(2, 2, 2))\n",
    "\n",
    "        self.conv3a = nn.Conv3d(128, 256, kernel_size=(3, 3, 3), padding=1)\n",
    "        self.conv3b = nn.Conv3d(256, 256, kernel_size=(3, 3, 3), padding=1)\n",
    "        self.pool3 = nn.MaxPool3d(kernel_size=(2, 2, 2), stride=(2, 2, 2))\n",
    "\n",
    "        self.conv4a = nn.Conv3d(256, 512, kernel_size=(3, 3, 3), padding=1)\n",
    "        self.conv4b = nn.Conv3d(512, 512, kernel_size=(3, 3, 3), padding=1)\n",
    "        self.pool4 = nn.MaxPool3d(kernel_size=(2, 2, 2), stride=(2, 2, 2))\n",
    "\n",
    "        self.conv5a = nn.Conv3d(512, 512, kernel_size=(3, 3, 3), padding=1)\n",
    "        self.conv5b = nn.Conv3d(512, 512, kernel_size=(3, 3, 3), padding=1)\n",
    "        self.pool5 = nn.MaxPool3d(kernel_size=(2, 2, 2), stride=(2, 2, 2))\n",
    "\n",
    "        self.flatten = nn.Flatten()\n",
    "\n",
    "        self.fc6 = nn.Linear(512 * 1 * 2 * 2, 4096)\n",
    "        self.fc7 = nn.Linear(4096, 4096)\n",
    "        self.fc8 = nn.Linear(4096, num_classes)\n",
    "        \n",
    "        self.dropout = nn.Dropout(p=0.5)\n",
    "        self.relu = nn.ReLU()\n",
    "\n",
    "    def forward(self, x):\n",
    "        x = self.relu(self.conv1(x))\n",
    "        x = self.pool1(x)\n",
    "\n",
    "        x = self.relu(self.conv2(x))\n",
    "        x = self.pool2(x)\n",
    "\n",
    "        x = self.relu(self.conv3a(x))\n",
    "        x = self.relu(self.conv3b(x))\n",
    "        x = self.pool3(x)\n",
    "\n",
    "        x = self.relu(self.conv4a(x))\n",
    "        x = self.relu(self.conv4b(x))\n",
    "        x = self.pool4(x)\n",
    "\n",
    "        x = self.relu(self.conv5a(x))\n",
    "        x = self.relu(self.conv5b(x))\n",
    "        x = self.pool5(x)\n",
    "\n",
    "        x = self.flatten(x)\n",
    "\n",
    "        x = self.relu(self.fc6(x))\n",
    "        x = self.dropout(x)\n",
    "        x = self.relu(self.fc7(x))\n",
    "        x = self.dropout(x)\n",
    "        x = self.fc8(x)\n",
    "        \n",
    "        return x"
   ]
  },
  {
   "cell_type": "code",
   "execution_count": 25,
   "metadata": {},
   "outputs": [
    {
     "name": "stdout",
     "output_type": "stream",
     "text": [
      "54874996 parameters\n",
      "torch.Size([8, 500])\n"
     ]
    }
   ],
   "source": [
    "# unit-test\n",
    "model = CNN()\n",
    "print(sum(p.numel() for p in model.parameters()), 'parameters')\n",
    "x = torch.randn([8, 1, 29, 64, 64]) # simulate Fashion-MNIST images\n",
    "y = model(x)\n",
    "print(y.shape)"
   ]
  },
  {
   "cell_type": "code",
   "execution_count": 27,
   "metadata": {},
   "outputs": [],
   "source": [
    "def train_CNN(batch_size=8, lr=0.1, n_epoch=10, eval_epoch=5, batches_per_epoch=1000):\n",
    "\n",
    "    # setup random seed\n",
    "    torch.manual_seed(1337)\n",
    "    torch.cuda.manual_seed(1337)\n",
    "    torch.backends.cudnn.deterministic = True\n",
    "    torch.backends.cudnn.benchmark = False\n",
    "\n",
    "    # setup model\n",
    "    model = CNN()\n",
    "    device = 'cpu'\n",
    "    if torch.cuda.is_available():\n",
    "        model = model.cuda()\n",
    "        device = 'cuda'\n",
    "\n",
    "    # setup data loader\n",
    "    train_loader = DataLoader(dataset, batch_size=10, shuffle=True, num_workers=4)\n",
    "\n",
    "    test_loader = DataLoader(\n",
    "                    test_dataset,\n",
    "                    batch_size=10,\n",
    "                    shuffle=False,\n",
    "                    drop_last=False\n",
    "                )\n",
    "\n",
    "    # setup optimizer\n",
    "    optimizer = torch.optim.SGD(model.parameters(), lr=lr)\n",
    "\n",
    "    ########### TODO ###########\n",
    "    # setup loss function (criterion)\n",
    "    criterion = nn.CrossEntropyLoss()\n",
    "\n",
    "    ######## End of TODO #######\n",
    "\n",
    "    # training and evaluation\n",
    "    losses_train = []\n",
    "    accs_train = []\n",
    "    losses_test = []\n",
    "    accs_test = []\n",
    "    start_time = time.time()\n",
    "    for ep in range(n_epoch):\n",
    "        print(f\"running epoch {ep}\")\n",
    "\n",
    "        # train an epoch and get the loss\n",
    "        loss_train, acc_train = train(train_loader, model, optimizer, ep, criterion, device, batches_per_epoch)\n",
    "        losses_train.append(loss_train)\n",
    "        accs_train.append(acc_train)\n",
    "\n",
    "        if (ep + 1) % eval_epoch == 0:\n",
    "            # evaluate current model and get the loss\n",
    "            loss_test, acc_test = test(test_loader, model, criterion, device, batches_per_epoch)\n",
    "            losses_test.append(loss_test)\n",
    "            accs_test.append(acc_test)\n",
    "            print(f'[val]\\tloss_test: {loss_test:.4f}\\tacc_test: {acc_test:.4f}')\n",
    "        end_time = time.time()\n",
    "        elapsed = end_time - start_time\n",
    "        print(f\"epoch runtime: {elapsed:.2f} \")\n",
    "        start_time = end_time\n",
    "\n",
    "    # plot the training/testing loss and accuracy\n",
    "    fig, ax = plt.subplots(nrows=1, ncols=2, figsize=(8, 3))\n",
    "    ax[0].plot(np.arange(n_epoch), losses_train, color='b', label='train_loss')\n",
    "    ax[0].plot(np.linspace(0, n_epoch, n_epoch//eval_epoch), losses_test, color='r', label='test_loss')\n",
    "    ax[0].legend()\n",
    "\n",
    "    ax[1].plot(np.arange(n_epoch), accs_train, color='b', label='train_acc')\n",
    "    ax[1].plot(np.linspace(0, n_epoch, n_epoch//eval_epoch), accs_test, color='r', label='test_acc')\n",
    "    ax[1].legend()"
   ]
  },
  {
   "cell_type": "code",
   "execution_count": 28,
   "metadata": {},
   "outputs": [
    {
     "name": "stdout",
     "output_type": "stream",
     "text": [
      "running epoch 0\n"
     ]
    },
    {
     "data": {
      "application/vnd.jupyter.widget-view+json": {
       "model_id": "9b3eddbc2b6240b8952932a2c82c6145",
       "version_major": 2,
       "version_minor": 0
      },
      "text/plain": [
       "Epoch 0 Running:   0%|          | 0/1000 [00:00<?, ?batch/s]"
      ]
     },
     "metadata": {},
     "output_type": "display_data"
    },
    {
     "ename": "KeyboardInterrupt",
     "evalue": "",
     "output_type": "error",
     "traceback": [
      "\u001b[0;31m---------------------------------------------------------------------------\u001b[0m",
      "\u001b[0;31mKeyboardInterrupt\u001b[0m                         Traceback (most recent call last)",
      "Cell \u001b[0;32mIn[28], line 1\u001b[0m\n\u001b[0;32m----> 1\u001b[0m \u001b[43mtrain_CNN\u001b[49m\u001b[43m(\u001b[49m\u001b[43m)\u001b[49m\n",
      "Cell \u001b[0;32mIn[27], line 45\u001b[0m, in \u001b[0;36mtrain_CNN\u001b[0;34m(batch_size, lr, n_epoch, eval_epoch, batches_per_epoch)\u001b[0m\n\u001b[1;32m     42\u001b[0m \u001b[38;5;28mprint\u001b[39m(\u001b[38;5;124mf\u001b[39m\u001b[38;5;124m\"\u001b[39m\u001b[38;5;124mrunning epoch \u001b[39m\u001b[38;5;132;01m{\u001b[39;00mep\u001b[38;5;132;01m}\u001b[39;00m\u001b[38;5;124m\"\u001b[39m)\n\u001b[1;32m     44\u001b[0m \u001b[38;5;66;03m# train an epoch and get the loss\u001b[39;00m\n\u001b[0;32m---> 45\u001b[0m loss_train, acc_train \u001b[38;5;241m=\u001b[39m \u001b[43mtrain\u001b[49m\u001b[43m(\u001b[49m\u001b[43mtrain_loader\u001b[49m\u001b[43m,\u001b[49m\u001b[43m \u001b[49m\u001b[43mmodel\u001b[49m\u001b[43m,\u001b[49m\u001b[43m \u001b[49m\u001b[43moptimizer\u001b[49m\u001b[43m,\u001b[49m\u001b[43m \u001b[49m\u001b[43mep\u001b[49m\u001b[43m,\u001b[49m\u001b[43m \u001b[49m\u001b[43mcriterion\u001b[49m\u001b[43m,\u001b[49m\u001b[43m \u001b[49m\u001b[43mdevice\u001b[49m\u001b[43m,\u001b[49m\u001b[43m \u001b[49m\u001b[43mbatches_per_epoch\u001b[49m\u001b[43m)\u001b[49m\n\u001b[1;32m     46\u001b[0m losses_train\u001b[38;5;241m.\u001b[39mappend(loss_train)\n\u001b[1;32m     47\u001b[0m accs_train\u001b[38;5;241m.\u001b[39mappend(acc_train)\n",
      "Cell \u001b[0;32mIn[8], line 28\u001b[0m, in \u001b[0;36mtrain\u001b[0;34m(data_loader, model, optimizer, epoch, criterion, device, batches_per_epoch)\u001b[0m\n\u001b[1;32m     25\u001b[0m loss \u001b[38;5;241m=\u001b[39m criterion(output, target)\n\u001b[1;32m     27\u001b[0m \u001b[38;5;66;03m# backward (PyTorch computes backpropagation for you)\u001b[39;00m\n\u001b[0;32m---> 28\u001b[0m \u001b[43mloss\u001b[49m\u001b[38;5;241;43m.\u001b[39;49m\u001b[43mbackward\u001b[49m\u001b[43m(\u001b[49m\u001b[43m)\u001b[49m\n\u001b[1;32m     30\u001b[0m optimizer\u001b[38;5;241m.\u001b[39mstep()\n\u001b[1;32m     32\u001b[0m \u001b[38;5;66;03m# accumulate losses\u001b[39;00m\n",
      "File \u001b[0;32m~/Documents/classes/cse/ece228/ece228-venv/lib/python3.12/site-packages/torch/_tensor.py:522\u001b[0m, in \u001b[0;36mTensor.backward\u001b[0;34m(self, gradient, retain_graph, create_graph, inputs)\u001b[0m\n\u001b[1;32m    512\u001b[0m \u001b[38;5;28;01mif\u001b[39;00m has_torch_function_unary(\u001b[38;5;28mself\u001b[39m):\n\u001b[1;32m    513\u001b[0m     \u001b[38;5;28;01mreturn\u001b[39;00m handle_torch_function(\n\u001b[1;32m    514\u001b[0m         Tensor\u001b[38;5;241m.\u001b[39mbackward,\n\u001b[1;32m    515\u001b[0m         (\u001b[38;5;28mself\u001b[39m,),\n\u001b[0;32m   (...)\u001b[0m\n\u001b[1;32m    520\u001b[0m         inputs\u001b[38;5;241m=\u001b[39minputs,\n\u001b[1;32m    521\u001b[0m     )\n\u001b[0;32m--> 522\u001b[0m \u001b[43mtorch\u001b[49m\u001b[38;5;241;43m.\u001b[39;49m\u001b[43mautograd\u001b[49m\u001b[38;5;241;43m.\u001b[39;49m\u001b[43mbackward\u001b[49m\u001b[43m(\u001b[49m\n\u001b[1;32m    523\u001b[0m \u001b[43m    \u001b[49m\u001b[38;5;28;43mself\u001b[39;49m\u001b[43m,\u001b[49m\u001b[43m \u001b[49m\u001b[43mgradient\u001b[49m\u001b[43m,\u001b[49m\u001b[43m \u001b[49m\u001b[43mretain_graph\u001b[49m\u001b[43m,\u001b[49m\u001b[43m \u001b[49m\u001b[43mcreate_graph\u001b[49m\u001b[43m,\u001b[49m\u001b[43m \u001b[49m\u001b[43minputs\u001b[49m\u001b[38;5;241;43m=\u001b[39;49m\u001b[43minputs\u001b[49m\n\u001b[1;32m    524\u001b[0m \u001b[43m\u001b[49m\u001b[43m)\u001b[49m\n",
      "File \u001b[0;32m~/Documents/classes/cse/ece228/ece228-venv/lib/python3.12/site-packages/torch/autograd/__init__.py:266\u001b[0m, in \u001b[0;36mbackward\u001b[0;34m(tensors, grad_tensors, retain_graph, create_graph, grad_variables, inputs)\u001b[0m\n\u001b[1;32m    261\u001b[0m     retain_graph \u001b[38;5;241m=\u001b[39m create_graph\n\u001b[1;32m    263\u001b[0m \u001b[38;5;66;03m# The reason we repeat the same comment below is that\u001b[39;00m\n\u001b[1;32m    264\u001b[0m \u001b[38;5;66;03m# some Python versions print out the first line of a multi-line function\u001b[39;00m\n\u001b[1;32m    265\u001b[0m \u001b[38;5;66;03m# calls in the traceback and some print out the last line\u001b[39;00m\n\u001b[0;32m--> 266\u001b[0m \u001b[43mVariable\u001b[49m\u001b[38;5;241;43m.\u001b[39;49m\u001b[43m_execution_engine\u001b[49m\u001b[38;5;241;43m.\u001b[39;49m\u001b[43mrun_backward\u001b[49m\u001b[43m(\u001b[49m\u001b[43m  \u001b[49m\u001b[38;5;66;43;03m# Calls into the C++ engine to run the backward pass\u001b[39;49;00m\n\u001b[1;32m    267\u001b[0m \u001b[43m    \u001b[49m\u001b[43mtensors\u001b[49m\u001b[43m,\u001b[49m\n\u001b[1;32m    268\u001b[0m \u001b[43m    \u001b[49m\u001b[43mgrad_tensors_\u001b[49m\u001b[43m,\u001b[49m\n\u001b[1;32m    269\u001b[0m \u001b[43m    \u001b[49m\u001b[43mretain_graph\u001b[49m\u001b[43m,\u001b[49m\n\u001b[1;32m    270\u001b[0m \u001b[43m    \u001b[49m\u001b[43mcreate_graph\u001b[49m\u001b[43m,\u001b[49m\n\u001b[1;32m    271\u001b[0m \u001b[43m    \u001b[49m\u001b[43minputs\u001b[49m\u001b[43m,\u001b[49m\n\u001b[1;32m    272\u001b[0m \u001b[43m    \u001b[49m\u001b[43mallow_unreachable\u001b[49m\u001b[38;5;241;43m=\u001b[39;49m\u001b[38;5;28;43;01mTrue\u001b[39;49;00m\u001b[43m,\u001b[49m\n\u001b[1;32m    273\u001b[0m \u001b[43m    \u001b[49m\u001b[43maccumulate_grad\u001b[49m\u001b[38;5;241;43m=\u001b[39;49m\u001b[38;5;28;43;01mTrue\u001b[39;49;00m\u001b[43m,\u001b[49m\n\u001b[1;32m    274\u001b[0m \u001b[43m\u001b[49m\u001b[43m)\u001b[49m\n",
      "\u001b[0;31mKeyboardInterrupt\u001b[0m: "
     ]
    }
   ],
   "source": [
    "train_CNN()"
   ]
  },
  {
   "cell_type": "code",
   "execution_count": null,
   "metadata": {},
   "outputs": [],
   "source": []
  }
 ],
 "metadata": {
  "kernelspec": {
   "display_name": "ece228-venv",
   "language": "python",
   "name": "python3"
  },
  "language_info": {
   "codemirror_mode": {
    "name": "ipython",
    "version": 3
   },
   "file_extension": ".py",
   "mimetype": "text/x-python",
   "name": "python",
   "nbconvert_exporter": "python",
   "pygments_lexer": "ipython3",
   "version": "3.12.3"
  }
 },
 "nbformat": 4,
 "nbformat_minor": 2
}
